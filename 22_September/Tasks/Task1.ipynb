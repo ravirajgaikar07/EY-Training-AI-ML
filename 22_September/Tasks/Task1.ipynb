{
 "cells": [
  {
   "cell_type": "code",
   "execution_count": 1,
   "id": "60f10f98-70fd-4005-89e5-464b7e6770f2",
   "metadata": {},
   "outputs": [
    {
     "data": {
      "text/html": [
       "<div>\n",
       "<style scoped>\n",
       "    .dataframe tbody tr th:only-of-type {\n",
       "        vertical-align: middle;\n",
       "    }\n",
       "\n",
       "    .dataframe tbody tr th {\n",
       "        vertical-align: top;\n",
       "    }\n",
       "\n",
       "    .dataframe thead th {\n",
       "        text-align: right;\n",
       "    }\n",
       "</style>\n",
       "<table border=\"1\" class=\"dataframe\">\n",
       "  <thead>\n",
       "    <tr style=\"text-align: right;\">\n",
       "      <th></th>\n",
       "      <th>Month</th>\n",
       "      <th>Product</th>\n",
       "      <th>Units_Sold</th>\n",
       "      <th>Revenue</th>\n",
       "    </tr>\n",
       "  </thead>\n",
       "  <tbody>\n",
       "    <tr>\n",
       "      <th>0</th>\n",
       "      <td>Jan</td>\n",
       "      <td>Laptop</td>\n",
       "      <td>120</td>\n",
       "      <td>600000</td>\n",
       "    </tr>\n",
       "    <tr>\n",
       "      <th>1</th>\n",
       "      <td>Feb</td>\n",
       "      <td>Laptop</td>\n",
       "      <td>135</td>\n",
       "      <td>675000</td>\n",
       "    </tr>\n",
       "    <tr>\n",
       "      <th>2</th>\n",
       "      <td>Mar</td>\n",
       "      <td>Laptop</td>\n",
       "      <td>150</td>\n",
       "      <td>750000</td>\n",
       "    </tr>\n",
       "    <tr>\n",
       "      <th>3</th>\n",
       "      <td>Apr</td>\n",
       "      <td>Mobile</td>\n",
       "      <td>200</td>\n",
       "      <td>300000</td>\n",
       "    </tr>\n",
       "    <tr>\n",
       "      <th>4</th>\n",
       "      <td>May</td>\n",
       "      <td>Mobile</td>\n",
       "      <td>220</td>\n",
       "      <td>330000</td>\n",
       "    </tr>\n",
       "    <tr>\n",
       "      <th>5</th>\n",
       "      <td>Jun</td>\n",
       "      <td>Mobile</td>\n",
       "      <td>210</td>\n",
       "      <td>315000</td>\n",
       "    </tr>\n",
       "  </tbody>\n",
       "</table>\n",
       "</div>"
      ],
      "text/plain": [
       "  Month Product  Units_Sold  Revenue\n",
       "0   Jan  Laptop         120   600000\n",
       "1   Feb  Laptop         135   675000\n",
       "2   Mar  Laptop         150   750000\n",
       "3   Apr  Mobile         200   300000\n",
       "4   May  Mobile         220   330000\n",
       "5   Jun  Mobile         210   315000"
      ]
     },
     "execution_count": 1,
     "metadata": {},
     "output_type": "execute_result"
    }
   ],
   "source": [
    "import pandas as pd\n",
    "import matplotlib.pyplot as plt\n",
    " \n",
    "# Sample sales dataset\n",
    "data = {\n",
    "    \"Month\": [\"Jan\", \"Feb\", \"Mar\", \"Apr\", \"May\", \"Jun\"],\n",
    "    \"Product\": [\"Laptop\", \"Laptop\", \"Laptop\", \"Mobile\", \"Mobile\", \"Mobile\"],\n",
    "    \"Units_Sold\": [120, 135, 150, 200, 220, 210],\n",
    "    \"Revenue\": [600000, 675000, 750000, 300000, 330000, 315000]\n",
    "}\n",
    " \n",
    "df = pd.DataFrame(data)\n",
    "df"
   ]
  },
  {
   "cell_type": "code",
   "execution_count": 10,
   "id": "71a721b8-fe15-4bf7-8a9b-5d5e1c143ea1",
   "metadata": {},
   "outputs": [
    {
     "data": {
      "image/png": "[encoded data removed]",
      "text/plain": [
       "<Figure size 640x480 with 1 Axes>"
      ]
     },
     "metadata": {},
     "output_type": "display_data"
    }
   ],
   "source": [
    "rev_by_prod = df.groupby(\"Product\")[\"Revenue\"].mean()\n",
    "rev_by_prod.plot(kind=\"bar\",color=\"Blue\")\n",
    "plt.xlabel(\"Product\")\n",
    "plt.ylabel(\"Revenue\")\n",
    "plt.title(\"Revenue by Product\")\n",
    "plt.xticks(rotation=0)\n",
    "plt.show()"
   ]
  },
  {
   "cell_type": "raw",
   "id": "c4eda064-29e9-4623-9426-aac59827b006",
   "metadata": {},
   "source": []
  }
 ],
 "metadata": {
  "kernelspec": {
   "display_name": "Python 3 (ipykernel)",
   "language": "python",
   "name": "python3"
  },
  "language_info": {
   "codemirror_mode": {
    "name": "ipython",
    "version": 3
   },
   "file_extension": ".py",
   "mimetype": "text/x-python",
   "name": "python",
   "nbconvert_exporter": "python",
   "pygments_lexer": "ipython3",
   "version": "3.11.0"
  }
 },
 "nbformat": 4,
 "nbformat_minor": 5
}
