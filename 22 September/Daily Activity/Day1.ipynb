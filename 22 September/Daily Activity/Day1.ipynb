{
 "cells": [
  {
   "cell_type": "code",
   "execution_count": 1,
   "id": "bc00f2b0-78df-40d8-8fc5-239f9002652f",
   "metadata": {},
   "outputs": [],
   "source": [
    "import pandas as pd\n",
    "import numpy as np"
   ]
  },
  {
   "cell_type": "code",
   "execution_count": 2,
   "id": "e7255972-dc3d-4879-9310-d3ac492166db",
   "metadata": {},
   "outputs": [
    {
     "data": {
      "text/html": [
       "<div>\n",
       "<style scoped>\n",
       "    .dataframe tbody tr th:only-of-type {\n",
       "        vertical-align: middle;\n",
       "    }\n",
       "\n",
       "    .dataframe tbody tr th {\n",
       "        vertical-align: top;\n",
       "    }\n",
       "\n",
       "    .dataframe thead th {\n",
       "        text-align: right;\n",
       "    }\n",
       "</style>\n",
       "<table border=\"1\" class=\"dataframe\">\n",
       "  <thead>\n",
       "    <tr style=\"text-align: right;\">\n",
       "      <th></th>\n",
       "      <th>Name</th>\n",
       "      <th>Age</th>\n",
       "      <th>Course</th>\n",
       "      <th>Marks</th>\n",
       "    </tr>\n",
       "  </thead>\n",
       "  <tbody>\n",
       "    <tr>\n",
       "      <th>0</th>\n",
       "      <td>Abhishek</td>\n",
       "      <td>21</td>\n",
       "      <td>AI</td>\n",
       "      <td>60</td>\n",
       "    </tr>\n",
       "    <tr>\n",
       "      <th>1</th>\n",
       "      <td>Rahul</td>\n",
       "      <td>22</td>\n",
       "      <td>ML</td>\n",
       "      <td>80</td>\n",
       "    </tr>\n",
       "    <tr>\n",
       "      <th>2</th>\n",
       "      <td>Prathmesh</td>\n",
       "      <td>23</td>\n",
       "      <td>Cloud</td>\n",
       "      <td>90</td>\n",
       "    </tr>\n",
       "    <tr>\n",
       "      <th>3</th>\n",
       "      <td>Vinay</td>\n",
       "      <td>24</td>\n",
       "      <td>CI/CD</td>\n",
       "      <td>72</td>\n",
       "    </tr>\n",
       "  </tbody>\n",
       "</table>\n",
       "</div>"
      ],
      "text/plain": [
       "        Name  Age Course  Marks\n",
       "0   Abhishek   21     AI     60\n",
       "1      Rahul   22     ML     80\n",
       "2  Prathmesh   23  Cloud     90\n",
       "3      Vinay   24  CI/CD     72"
      ]
     },
     "execution_count": 2,
     "metadata": {},
     "output_type": "execute_result"
    }
   ],
   "source": [
    "data = {\n",
    "    \"Name\": [\"Abhishek\", \"Rahul\", \"Prathmesh\", \"Vinay\"],\n",
    "    \"Age\": [21,22,23,24],\n",
    "    \"Course\": [\"AI\",\"ML\",\"Cloud\",\"CI/CD\"],\n",
    "    \"Marks\": [60,80,90,72]\n",
    "}\n",
    "\n",
    "df=pd.DataFrame(data)\n",
    "df"
   ]
  },
  {
   "cell_type": "code",
   "execution_count": 3,
   "id": "9d79f029-c8e3-4037-97d7-bba6c6b68f5b",
   "metadata": {},
   "outputs": [
    {
     "name": "stdout",
     "output_type": "stream",
     "text": [
      "        Name  Age Course  Marks Result\n",
      "0   Abhishek   21     AI     60   Fail\n",
      "1      Rahul   22     ML     90   Pass\n",
      "2  Prathmesh   23  Cloud     90   Pass\n",
      "3      Vinay   24  CI/CD     72   Pass\n"
     ]
    }
   ],
   "source": [
    "df[\"Result\"]=np.where(df[\"Marks\"]>=70,\"Pass\",\"Fail\")\n",
    "df.loc[df[\"Name\"]==\"Rahul\",\"Marks\"]=90\n",
    "\n",
    "print(df)"
   ]
  },
  {
   "cell_type": "code",
   "execution_count": 4,
   "id": "caa2cce9-5db3-48ab-9697-9c973978c9f7",
   "metadata": {},
   "outputs": [
    {
     "name": "stdout",
     "output_type": "stream",
     "text": [
      "        Name  Age Course  Marks Result\n",
      "1      Rahul   22     ML     90   Pass\n",
      "2  Prathmesh   23  Cloud     90   Pass\n"
     ]
    }
   ],
   "source": [
    "print(df[df[\"Marks\"]>75])"
   ]
  },
  {
   "cell_type": "code",
   "execution_count": 5,
   "id": "2056f003-183e-4c24-8fd2-f326b59165f6",
   "metadata": {},
   "outputs": [
    {
     "name": "stdout",
     "output_type": "stream",
     "text": [
      "Name      Abhishek\n",
      "Age             21\n",
      "Course          AI\n",
      "Marks           60\n",
      "Result        Fail\n",
      "Name: 0, dtype: object\n",
      "90\n"
     ]
    }
   ],
   "source": [
    "print(df.iloc[0])\n",
    "print(df.loc[2,\"Marks\"])"
   ]
  },
  {
   "cell_type": "code",
   "execution_count": 6,
   "id": "5639783b-bcdd-4bee-95d9-a7302e69e4e4",
   "metadata": {},
   "outputs": [
    {
     "name": "stdout",
     "output_type": "stream",
     "text": [
      "60\n",
      "10\n",
      "160\n",
      "32.0\n",
      "[10 15 30]\n",
      "[60 45 30 15 10]\n",
      "18.601075237738275\n"
     ]
    }
   ],
   "source": [
    "marks = np.array([10,15,30,45,60])\n",
    "\n",
    "print(marks.max())\n",
    "print(marks.min())\n",
    "print(marks.sum())\n",
    "print(marks.mean())\n",
    "print(marks[:3])\n",
    "print(marks[::-1])\n",
    "print(marks.std())"
   ]
  },
  {
   "cell_type": "code",
   "execution_count": 7,
   "id": "26f37181-2caf-4e5c-a929-dd6e014a81ef",
   "metadata": {},
   "outputs": [
    {
     "name": "stdout",
     "output_type": "stream",
     "text": [
      "Note: you may need to restart the kernel to use updated packages.\n"
     ]
    },
    {
     "name": "stderr",
     "output_type": "stream",
     "text": [
      "\n",
      "[notice] A new release of pip is available: 25.1.1 -> 25.2\n",
      "[notice] To update, run: python.exe -m pip install --upgrade pip\n"
     ]
    }
   ],
   "source": [
    "pip install -q matplotlib"
   ]
  },
  {
   "cell_type": "code",
   "execution_count": 8,
   "id": "3437060f-8a05-44ac-8ae3-dc23d6e8ef43",
   "metadata": {},
   "outputs": [],
   "source": [
    "import matplotlib.pyplot as plt"
   ]
  },
  {
   "cell_type": "code",
   "execution_count": 15,
   "id": "96d78514-34b6-4e34-b913-cf7eeac9ec0b",
   "metadata": {},
   "outputs": [
    {
     "data": {
      "image/png": "[encoded data removed]",
      "text/plain": [
       "<Figure size 640x480 with 1 Axes>"
      ]
     },
     "metadata": {},
     "output_type": "display_data"
    }
   ],
   "source": [
    "avg_marks=df.groupby(\"Course\")[\"Marks\"].mean()\n",
    "\n",
    "avg_marks.plot(kind=\"bar\",color=\"Blue\",edgecolor=\"gray\")\n",
    "\n",
    "plt.title(\"Average Marks by Course\")\n",
    "plt.xlabel(\"Course\")\n",
    "plt.ylabel(\"Average Marks\")\n",
    "plt.xticks(rotation=0)\n",
    "plt.show()"
   ]
  },
  {
   "cell_type": "code",
   "execution_count": null,
   "id": "5d604a5c-3bdd-4e93-b464-0808fea67517",
   "metadata": {},
   "outputs": [],
   "source": []
  }
 ],
 "metadata": {
  "kernelspec": {
   "display_name": "Python 3 (ipykernel)",
   "language": "python",
   "name": "python3"
  },
  "language_info": {
   "codemirror_mode": {
    "name": "ipython",
    "version": 3
   },
   "file_extension": ".py",
   "mimetype": "text/x-python",
   "name": "python",
   "nbconvert_exporter": "python",
   "pygments_lexer": "ipython3",
   "version": "3.11.0"
  }
 },
 "nbformat": 4,
 "nbformat_minor": 5
}
